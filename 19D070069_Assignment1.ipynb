{
 "cells": [
  {
   "cell_type": "markdown",
   "metadata": {},
   "source": [
    "# # NetList Format if text file\n",
    "\n",
    "Primary Output<br>\n",
    "Circuit Name<br>\n",
    "Primary Input<br>\n",
    "OUT_NODE GATE_TYPE IN_NODE<br>\n",
    "....<br>\n",
    "END<br>\n",
    "Gate type can be:<br>\n",
    "AND<br>\n",
    "OR<br>\n",
    "NOT<br>\n",
    "XOR<br>\n",
    "\n",
    "### Else \n",
    "You can edit the netlist give below in the format\n",
    "[\"Primary Input\", \"Circuit Name\",\"Primary Output\",\"OUT_NODE GATE_TYPE IN_NODE\", .... ,\"END\"]\n"
   ]
  },
  {
   "cell_type": "code",
   "execution_count": 1,
   "metadata": {},
   "outputs": [],
   "source": [
    "#This function load text file and create the NETLIST\n",
    "\n",
    "def netlist_loader(path):\n",
    "    f = open(path, \"r\")\n",
    "    net = f.readlines()\n",
    "    netlist = []\n",
    "    for i in net:\n",
    "        netlist.append(i.strip())\n",
    "    return netlist"
   ]
  },
  {
   "cell_type": "code",
   "execution_count": 2,
   "metadata": {},
   "outputs": [],
   "source": [
    "def input_file_generator(path):\n",
    "    f = open(path, \"r\")\n",
    "    input_list_preprocessing = f.readlines()\n",
    "    input_list = []    \n",
    "    for i in input_list_preprocessing:\n",
    "        input_list.append(i.strip().split(\" \"))\n",
    "    return input_list "
   ]
  },
  {
   "cell_type": "code",
   "execution_count": 3,
   "metadata": {},
   "outputs": [],
   "source": [
    "#Netlist format if you don't want to input a text file\n",
    "netlist = [\"H\",\"CKT_NAME\",\"A B C D X\",\"E AND A B\",\"G AND C D\",\"F OR E X\",\"H OR G F\",\"END\"]"
   ]
  },
  {
   "cell_type": "code",
   "execution_count": 4,
   "metadata": {},
   "outputs": [],
   "source": [
    "#My circuit\n",
    "class circuit:\n",
    "    \n",
    "    def __init__(self,netlist):\n",
    "        self.netlist = netlist\n",
    "        #Primary outputs nodes\n",
    "        self.PO = netlist[0].split(\" \")\n",
    "        self.CKT_NAME = netlist[1]\n",
    "        \n",
    "        #Primary Input nodes\n",
    "        self.PI = netlist[2].split(\" \")\n",
    "        \n",
    "        #Forming array of all gates in the ciruit\n",
    "        self.GATES_ARRAY = self.make_gate_list()\n",
    "        \n",
    "        #Layer wise output is the ouput nodes available after each layer\n",
    "        #Layer wise gate is the index of gate after each layer\n",
    "        #Input Available will be used to map the value of each node to calculated\n",
    "        print(\"reached here\")\n",
    "        self.layer_wise_output,self.layer_wise_gate,self.input_available =self.layer_circuit()\n",
    "    \n",
    "    def make_gate_list(self):\n",
    "        #Makes the array of gate from the netlist\n",
    "        GATES_ARRAY = []\n",
    "\n",
    "        for i in range(3,len(self.netlist)):\n",
    "            if self.netlist[i] ==\"END\":\n",
    "                break\n",
    "            gate_specs = self.netlist[i].split(\" \")\n",
    "            gate_output = [gate_specs[0]]\n",
    "            gate_type = gate_specs[1]\n",
    "            gate_input = []\n",
    "    \n",
    "            for j in range(len(gate_specs)-2):\n",
    "                gate_input.append(gate_specs[j+2])\n",
    "            GATES_ARRAY.append([gate_output,gate_type,gate_input,0])\n",
    "            \n",
    "        #Output format is [[[output node],\"Gate Type\",[Input Node],0],[],...]\n",
    "        #0 as the last elemet in this list to show it has not yet been placed on the flow graph\n",
    "        return GATES_ARRAY\n",
    "    \n",
    "    def layer_circuit(self):\n",
    "        # Helps to divide circuit in layer for execution\n",
    "        #Layer wise output is the ouput nodes available after each layer\n",
    "        layer_wise_output = []\n",
    "        \n",
    "        #Layer wise gate is the index of gate after each layer\n",
    "        layer_wise_gate =[]\n",
    "        \n",
    "        #Input available keeps track of node available after layers\n",
    "        input_available = []\n",
    "        \n",
    "        #Primary Input available before execution\n",
    "        input_available += self.PI\n",
    "        \n",
    "        #Indicator to show all output nodes are available and the flow graph of circuit has been formed\n",
    "        layer_not_completed = True\n",
    "\n",
    "        while layer_not_completed:\n",
    "            \n",
    "            #ouput nodes available after this layer\n",
    "            curr_layer = []\n",
    "            \n",
    "            #index of gate performed in this layer \n",
    "            curr_layer_gate = []\n",
    "            \n",
    "            #new input that next layer can use from this layer output\n",
    "            input_available_next = []\n",
    "            \n",
    "            for i,gate in enumerate(self.GATES_ARRAY):\n",
    "                \n",
    "                #Check if gate already used if so go to next gate\n",
    "                if gate[3] == 1:\n",
    "                    \n",
    "                    continue\n",
    "                    \n",
    "                gate_ready = True\n",
    "                \n",
    "                #Check if all input are available\n",
    "                for j in gate[2]:\n",
    "                    if j not in input_available:\n",
    "                        #Input not availabe so move to next gate\n",
    "                        gate_ready = False\n",
    "                        break \n",
    "                        \n",
    "                #If gate can be used, add its output to inpu available list and index and output node to their respective list\n",
    "                if gate_ready:\n",
    "                    input_available_next += gate[0]\n",
    "                    curr_layer+=gate[0]\n",
    "                    curr_layer_gate += [i]\n",
    "                    gate[3] = 1\n",
    "                    \n",
    "            input_available += input_available_next             \n",
    "            layer_wise_output.append(curr_layer)\n",
    "            layer_wise_gate.append(curr_layer_gate)\n",
    "            \n",
    "            #Check if all primary outputs are available or not\n",
    "            for i in self.PO:\n",
    "                if i not in input_available:\n",
    "                    break;\n",
    "                elif i == self.PO[-1]:\n",
    "                    layer_not_completed = False\n",
    "        return layer_wise_output, layer_wise_gate,input_available\n",
    "    \n",
    "    \n",
    "    def gate_ouput_calculation(self,g_type,g_input,value):\n",
    "    \n",
    "    #Gives output of the current gate\n",
    "    \n",
    "        if g_type == \"AND\":\n",
    "            for i in g_input:\n",
    "                if value[i] == 0:\n",
    "                    return 0\n",
    "            return 1\n",
    "        \n",
    "        if g_type == \"OR\":\n",
    "            for i in g_input:\n",
    "                if value[i] == 1:\n",
    "                    return 1\n",
    "            return 0\n",
    "    \n",
    "        if g_type == \"NOT\":\n",
    "            for i in g_input:\n",
    "                if value[i] == 1:\n",
    "                    return 0\n",
    "                else:\n",
    "                    return 1\n",
    "        if g_type == \"XOR\":\n",
    "            sum_v = 0\n",
    "            for i in g_input:\n",
    "                sum_v += value[i]\n",
    "            return sum_v%2\n",
    "                \n",
    "    def input_applied(self,input_list):\n",
    "        nodes_value = {}\n",
    "        for i in self.input_available:\n",
    "            nodes_value[i] = -1\n",
    "        for i in input_list:\n",
    "            nodes_value[i[0]] = i[1]\n",
    "        \n",
    "        \n",
    "        for layer_gate in self.layer_wise_gate:\n",
    "            for j in layer_gate:\n",
    "                gate_type = self.GATES_ARRAY[j][1]\n",
    "                gate_output_node = self.GATES_ARRAY[j][0][0]\n",
    "                gate_value = self.gate_ouput_calculation(gate_type,self.GATES_ARRAY[j][2],nodes_value)\n",
    "                nodes_value[gate_output_node] = gate_value\n",
    "        return nodes_value\n",
    "    \n",
    "    def output(self,inp):\n",
    "        input_list = []\n",
    "        for i in inp:\n",
    "            value = i.split(\" \")\n",
    "            input_list.append([value[0],int(value[1])])\n",
    "        node_value = self.input_applied(input_list)\n",
    "        for i in self.PO:\n",
    "            print(i,\" = \",node_value[i])\n",
    "        print(node_value)\n",
    "            \n",
    "    def outputs(self,inps):\n",
    "        for inp in inps:\n",
    "            input_list = []\n",
    "            \n",
    "            for i,inpt in enumerate(inp):\n",
    "                \n",
    "                input_list.append([self.PI[i],int(inpt)])\n",
    "                print(self.PI[i], \"=\", int(inpt),end = \" \")\n",
    "            node_value = self.input_applied(input_list)\n",
    "            for i in self.PO:\n",
    "                print(i,\" = \",node_value[i],end = \" \")\n",
    "            print(\"\\n\",end=\"\")"
   ]
  },
  {
   "cell_type": "code",
   "execution_count": 5,
   "metadata": {},
   "outputs": [
    {
     "name": "stdout",
     "output_type": "stream",
     "text": [
      "reached here\n"
     ]
    }
   ],
   "source": [
    "ckta = circuit(netlist)"
   ]
  },
  {
   "cell_type": "code",
   "execution_count": 6,
   "metadata": {},
   "outputs": [],
   "source": [
    "inp = [\"A 1\",\"B 0\",\"C 1\",\"D 0\", \"X 1\"]"
   ]
  },
  {
   "cell_type": "code",
   "execution_count": 7,
   "metadata": {},
   "outputs": [
    {
     "name": "stdout",
     "output_type": "stream",
     "text": [
      "H  =  1\n",
      "{'A': 1, 'B': 0, 'C': 1, 'D': 0, 'X': 1, 'E': 0, 'G': 0, 'F': 1, 'H': 1}\n"
     ]
    }
   ],
   "source": [
    "ckta.output(inp)"
   ]
  },
  {
   "cell_type": "code",
   "execution_count": 8,
   "metadata": {},
   "outputs": [],
   "source": [
    "path = r\"C:\\Users\\vipin\\Desktop\\Semester 5\\EE 677\\Assignment 1\\Netlist.txt\""
   ]
  },
  {
   "cell_type": "code",
   "execution_count": 9,
   "metadata": {},
   "outputs": [],
   "source": [
    "netlist = netlist_loader(path)"
   ]
  },
  {
   "cell_type": "code",
   "execution_count": 10,
   "metadata": {},
   "outputs": [
    {
     "data": {
      "text/plain": [
       "['X', 'CKT_NAME', 'A B C D', 'E AND A B', 'F AND C D', 'X OR E F', 'END']"
      ]
     },
     "execution_count": 10,
     "metadata": {},
     "output_type": "execute_result"
    }
   ],
   "source": [
    "netlist"
   ]
  },
  {
   "cell_type": "code",
   "execution_count": 11,
   "metadata": {},
   "outputs": [
    {
     "name": "stdout",
     "output_type": "stream",
     "text": [
      "reached here\n"
     ]
    }
   ],
   "source": [
    "cktb = circuit(netlist)"
   ]
  },
  {
   "cell_type": "code",
   "execution_count": 12,
   "metadata": {},
   "outputs": [
    {
     "name": "stdout",
     "output_type": "stream",
     "text": [
      "X  =  0\n",
      "{'A': 1, 'B': 0, 'C': 1, 'D': 0, 'E': 0, 'F': 0, 'X': 0}\n"
     ]
    }
   ],
   "source": [
    "cktb.output(inp)"
   ]
  },
  {
   "cell_type": "markdown",
   "metadata": {},
   "source": [
    "## Giving input as list of array with input format same as the PI input format"
   ]
  },
  {
   "cell_type": "code",
   "execution_count": 13,
   "metadata": {},
   "outputs": [],
   "source": [
    "input_list = [[\"0\", \"0\", \"0\", \"0\"],[\"0\", \"1\", \"0\", \"0\"],[\"0\", \"0\", \"0\", \"1\"],[\"1\",\"1\",\"0\",\"0\"]]"
   ]
  },
  {
   "cell_type": "code",
   "execution_count": 14,
   "metadata": {},
   "outputs": [
    {
     "name": "stdout",
     "output_type": "stream",
     "text": [
      "A = 0 B = 0 C = 0 D = 0 X  =  0 \n",
      "A = 0 B = 1 C = 0 D = 0 X  =  0 \n",
      "A = 0 B = 0 C = 0 D = 1 X  =  0 \n",
      "A = 1 B = 1 C = 0 D = 0 X  =  1 \n"
     ]
    }
   ],
   "source": [
    "cktb.outputs(input_list)"
   ]
  },
  {
   "cell_type": "code",
   "execution_count": 15,
   "metadata": {},
   "outputs": [],
   "source": [
    "input_file_path = r\"C:\\Users\\vipin\\Desktop\\Semester 5\\EE 677\\Assignment 1\\Input.txt\""
   ]
  },
  {
   "cell_type": "code",
   "execution_count": 16,
   "metadata": {},
   "outputs": [],
   "source": [
    "input_file = input_file_generator(input_file_path)"
   ]
  },
  {
   "cell_type": "code",
   "execution_count": 17,
   "metadata": {},
   "outputs": [
    {
     "name": "stdout",
     "output_type": "stream",
     "text": [
      "A = 0 B = 0 C = 0 D = 0 X  =  0 \n",
      "A = 0 B = 0 C = 0 D = 1 X  =  0 \n",
      "A = 0 B = 0 C = 1 D = 0 X  =  0 \n",
      "A = 0 B = 0 C = 1 D = 1 X  =  1 \n",
      "A = 0 B = 1 C = 0 D = 0 X  =  0 \n",
      "A = 0 B = 1 C = 0 D = 1 X  =  0 \n",
      "A = 0 B = 1 C = 1 D = 0 X  =  0 \n",
      "A = 0 B = 1 C = 1 D = 1 X  =  1 \n",
      "A = 1 B = 0 C = 0 D = 0 X  =  0 \n",
      "A = 1 B = 0 C = 0 D = 1 X  =  0 \n",
      "A = 1 B = 0 C = 1 D = 0 X  =  0 \n",
      "A = 1 B = 0 C = 1 D = 1 X  =  1 \n",
      "A = 1 B = 1 C = 0 D = 0 X  =  1 \n",
      "A = 1 B = 1 C = 0 D = 1 X  =  1 \n",
      "A = 1 B = 1 C = 1 D = 0 X  =  1 \n",
      "A = 1 B = 1 C = 1 D = 1 X  =  1 \n"
     ]
    }
   ],
   "source": [
    "cktb.outputs(input_file)"
   ]
  },
  {
   "cell_type": "code",
   "execution_count": null,
   "metadata": {},
   "outputs": [],
   "source": []
  },
  {
   "cell_type": "code",
   "execution_count": null,
   "metadata": {},
   "outputs": [],
   "source": []
  }
 ],
 "metadata": {
  "kernelspec": {
   "display_name": "Python 3",
   "language": "python",
   "name": "python3"
  },
  "language_info": {
   "codemirror_mode": {
    "name": "ipython",
    "version": 3
   },
   "file_extension": ".py",
   "mimetype": "text/x-python",
   "name": "python",
   "nbconvert_exporter": "python",
   "pygments_lexer": "ipython3",
   "version": "3.8.3"
  }
 },
 "nbformat": 4,
 "nbformat_minor": 4
}
